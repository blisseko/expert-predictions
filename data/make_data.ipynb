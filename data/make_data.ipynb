{
 "cells": [
  {
   "cell_type": "code",
   "execution_count": 1,
   "metadata": {},
   "outputs": [],
   "source": [
    "import numpy as np\n",
    "import pandas as pd"
   ]
  },
  {
   "cell_type": "code",
   "execution_count": 62,
   "metadata": {},
   "outputs": [],
   "source": [
    "model_name = \"preresnet-110\"\n",
    "model_name = \"densenet-bc-L190-k40\"\n",
    "# model_name = \"resnet-110\""
   ]
  },
  {
   "cell_type": "code",
   "execution_count": 63,
   "metadata": {},
   "outputs": [],
   "source": [
    "og_df = pd.read_csv(f\"/home/ubuntu/expert-predictions/data/{model_name}.csv\", header=None)"
   ]
  },
  {
   "cell_type": "code",
   "execution_count": 64,
   "metadata": {},
   "outputs": [
    {
     "data": {
      "text/plain": [
       "(10000, 10)"
      ]
     },
     "execution_count": 64,
     "metadata": {},
     "output_type": "execute_result"
    }
   ],
   "source": [
    "full_model_logits = pd.DataFrame.to_numpy(og_df)\n",
    "model_logits = pd.DataFrame.to_numpy(og_df)[:, 11:]\n",
    "model_logits.shape"
   ]
  },
  {
   "cell_type": "code",
   "execution_count": 69,
   "metadata": {},
   "outputs": [],
   "source": [
    "og_argmax = np.argmax(model_logits, 1)"
   ]
  },
  {
   "cell_type": "code",
   "execution_count": 67,
   "metadata": {},
   "outputs": [],
   "source": [
    "top_prob = 0.25\n",
    "adv = 0.05\n",
    "low_prob = (1 - (top_prob * 3) - adv) / 7\n",
    "for i in range(len(model_logits)):\n",
    "    argmax = np.argmax(model_logits[i])\n",
    "    if argmax < 3:\n",
    "        full_model_logits[i, :] = np.array([0]*11 + [top_prob] * 3 + [low_prob] * 7)\n",
    "    elif argmax < 6:\n",
    "        full_model_logits[i, :] = np.array([0]*11 + [low_prob] * 3 + [top_prob] * 3 + [low_prob] * 4)\n",
    "    elif argmax < 9:\n",
    "        full_model_logits[i, :] = np.array([0]*11 + [low_prob] * 6 + [top_prob] * 3 + [low_prob] * 1)\n",
    "    else:\n",
    "        full_model_logits[i, :] = np.array([0]*11 + [low_prob] * 7 + [top_prob] * 3)\n",
    "\n",
    "    full_model_logits[i, 11 + argmax] += adv\n"
   ]
  },
  {
   "cell_type": "code",
   "execution_count": 78,
   "metadata": {},
   "outputs": [],
   "source": [
    "assert ((og_argmax - 11) == np.argmax(full_model_logits[:, 11:], 1)).all()"
   ]
  },
  {
   "cell_type": "code",
   "execution_count": 72,
   "metadata": {},
   "outputs": [
    {
     "data": {
      "text/plain": [
       "(array([0.        , 0.        , 0.        , 0.        , 0.        ,\n",
       "        0.        , 0.        , 0.        , 0.        , 0.        ,\n",
       "        0.        , 0.02857143, 0.02857143, 0.02857143, 0.02857143,\n",
       "        0.02857143, 0.02857143, 0.07857143, 0.25      , 0.25      ,\n",
       "        0.25      ]),\n",
       " 1.0)"
      ]
     },
     "execution_count": 72,
     "metadata": {},
     "output_type": "execute_result"
    }
   ],
   "source": [
    "full_model_logits[5], full_model_logits[5].sum()"
   ]
  },
  {
   "cell_type": "code",
   "execution_count": 73,
   "metadata": {},
   "outputs": [],
   "source": [
    "# Generate csv for data\n",
    "df = pd.DataFrame(full_model_logits) #convert to a dataframe\n",
    "df.to_csv(f\"{model_name}_sabotaged.csv\",index=False, header=False) #save to file\n",
    "\n",
    "#Then, to reload:\n",
    "df = pd.read_csv(f\"{model_name}_sabotaged.csv\")"
   ]
  },
  {
   "cell_type": "code",
   "execution_count": null,
   "metadata": {},
   "outputs": [],
   "source": []
  },
  {
   "cell_type": "code",
   "execution_count": null,
   "metadata": {},
   "outputs": [],
   "source": []
  },
  {
   "cell_type": "code",
   "execution_count": null,
   "metadata": {},
   "outputs": [],
   "source": []
  }
 ],
 "metadata": {
  "kernelspec": {
   "display_name": ".venv",
   "language": "python",
   "name": "python3"
  },
  "language_info": {
   "codemirror_mode": {
    "name": "ipython",
    "version": 3
   },
   "file_extension": ".py",
   "mimetype": "text/x-python",
   "name": "python",
   "nbconvert_exporter": "python",
   "pygments_lexer": "ipython3",
   "version": "3.8.10"
  }
 },
 "nbformat": 4,
 "nbformat_minor": 2
}
